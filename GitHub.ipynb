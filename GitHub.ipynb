{
    "nbformat": 4, 
    "nbformat_minor": 0, 
    "metadata": {
        "language_info": {
            "version": "2.7.11", 
            "pygments_lexer": "ipython2", 
            "mimetype": "text/x-python", 
            "codemirror_mode": {
                "name": "ipython", 
                "version": 2
            }, 
            "name": "python", 
            "nbconvert_exporter": "python", 
            "file_extension": ".py"
        }, 
        "kernelspec": {
            "language": "python", 
            "name": "python2-spark20", 
            "display_name": "Python 2 with Spark 2.0"
        }
    }, 
    "cells": [
        {
            "source": "sc.version", 
            "execution_count": 1, 
            "outputs": [
                {
                    "execution_count": 1, 
                    "data": {
                        "text/plain": "u'2.0.2'"
                    }, 
                    "output_type": "execute_result", 
                    "metadata": {}
                }
            ], 
            "metadata": {
                "collapsed": false
            }, 
            "cell_type": "code"
        }
    ]
}